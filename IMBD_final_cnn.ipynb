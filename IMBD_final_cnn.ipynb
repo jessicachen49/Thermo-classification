{
 "cells": [
  {
   "cell_type": "code",
   "execution_count": 123,
   "metadata": {},
   "outputs": [],
   "source": [
    "import pandas as pd\n",
    "import numpy as np\n",
    "import time\n",
    "import math\n",
    "import sklearn.model_selection\n",
    "import torch\n",
    "import torch.nn as nn\n",
    "import torch.nn.functional as F\n",
    "from torch.utils.data import Dataset\n",
    "from sklearn.metrics import mean_squared_error\n",
    "import numpy as np\n",
    "from sklearn import preprocessing\n",
    "device = torch.device('cuda' if torch.cuda.is_available() else 'cpu')\n",
    "from sklearn.model_selection import train_test_split\n",
    "from sklearn.preprocessing import MinMaxScaler"
   ]
  },
  {
   "cell_type": "code",
   "execution_count": 140,
   "metadata": {},
   "outputs": [],
   "source": [
    "df = pd.read_csv('IMBD_train.csv')"
   ]
  },
  {
   "cell_type": "code",
   "execution_count": 212,
   "metadata": {},
   "outputs": [],
   "source": [
    "df = pd.read_csv('feature_eng_v1.csv')"
   ]
  },
  {
   "cell_type": "code",
   "execution_count": 254,
   "metadata": {},
   "outputs": [],
   "source": [
    "df = pd.read_csv('feature_eng_v2.csv')"
   ]
  },
  {
   "cell_type": "code",
   "execution_count": 255,
   "metadata": {},
   "outputs": [],
   "source": [
    "df.iloc[:,1] = df.iloc[:,1].str.replace('.csv', '')\n",
    "df = df.drop(df.columns[0], axis=1)"
   ]
  },
  {
   "cell_type": "code",
   "execution_count": 256,
   "metadata": {},
   "outputs": [],
   "source": [
    "for index, row in df.iterrows():\n",
    "    for j in range(5,28):\n",
    "        if row[j] == 0 or row[j] == -1:\n",
    "            if j == 5:\n",
    "                #replace with col 6's val\n",
    "                new_val = df.iloc[index,j+1]\n",
    "                df.iloc[index,j] = new_val\n",
    "            elif j == 28:\n",
    "                #replace with col 27's val\n",
    "                new_val = df.iloc[index,j-1]\n",
    "                df.iloc[index,j] = new_val\n",
    "            else:\n",
    "                #replace with 前後\n",
    "                new_val = (df.iloc[index,j+1] + df.iloc[index,j-1])/2\n",
    "                df.iloc[index,j] = new_val"
   ]
  },
  {
   "cell_type": "code",
   "execution_count": 292,
   "metadata": {},
   "outputs": [
    {
     "data": {
      "text/html": [
       "<div>\n",
       "<style scoped>\n",
       "    .dataframe tbody tr th:only-of-type {\n",
       "        vertical-align: middle;\n",
       "    }\n",
       "\n",
       "    .dataframe tbody tr th {\n",
       "        vertical-align: top;\n",
       "    }\n",
       "\n",
       "    .dataframe thead th {\n",
       "        text-align: right;\n",
       "    }\n",
       "</style>\n",
       "<table border=\"1\" class=\"dataframe\">\n",
       "  <thead>\n",
       "    <tr style=\"text-align: right;\">\n",
       "      <th></th>\n",
       "      <th>1</th>\n",
       "      <th>2</th>\n",
       "      <th>3</th>\n",
       "      <th>4</th>\n",
       "      <th>5</th>\n",
       "      <th>new_features</th>\n",
       "    </tr>\n",
       "  </thead>\n",
       "  <tbody>\n",
       "    <tr>\n",
       "      <th>0</th>\n",
       "      <td>A11887</td>\n",
       "      <td>G21_1230</td>\n",
       "      <td>20200219</td>\n",
       "      <td>PTC13</td>\n",
       "      <td>Deg.F</td>\n",
       "      <td>[[66.7, 66.7, 66.7, 66.7, 69.9, 71.7, 73.0, 74...</td>\n",
       "    </tr>\n",
       "    <tr>\n",
       "      <th>1</th>\n",
       "      <td>A11887</td>\n",
       "      <td>G21_1230</td>\n",
       "      <td>20200219</td>\n",
       "      <td>PTC14</td>\n",
       "      <td>Deg.F</td>\n",
       "      <td>[[66.7, 66.7, 66.7, 66.7, 68.2, 69.1, 70.0, 71...</td>\n",
       "    </tr>\n",
       "  </tbody>\n",
       "</table>\n",
       "</div>"
      ],
      "text/plain": [
       "        1         2         3      4      5  \\\n",
       "0  A11887  G21_1230  20200219  PTC13  Deg.F   \n",
       "1  A11887  G21_1230  20200219  PTC14  Deg.F   \n",
       "\n",
       "                                        new_features  \n",
       "0  [[66.7, 66.7, 66.7, 66.7, 69.9, 71.7, 73.0, 74...  \n",
       "1  [[66.7, 66.7, 66.7, 66.7, 68.2, 69.1, 70.0, 71...  "
      ]
     },
     "execution_count": 292,
     "metadata": {},
     "output_type": "execute_result"
    }
   ],
   "source": [
    "feature = []\n",
    "for index, row in df.iterrows():\n",
    "    new_row = []\n",
    "    new_row.append(list(df.iloc[index,5:5+19]))\n",
    "    new_row.append(list(df.iloc[index,30:30+19]))\n",
    "    new_row.append(list(df.iloc[index,52:52+19]))\n",
    "    new_row.append(list(df.iloc[index,74:74+19]))\n",
    "    new_row.append(list(df.iloc[index,94:94+19]))\n",
    "    new_row.append(list(df.iloc[index,115:115+19]))\n",
    "    new_row.append(list(df.iloc[index,134:134+19]))\n",
    "    new_row.append(list(df.iloc[index,157:157+19]))\n",
    "    new_row.append(list(df.iloc[index,179:179+19]))\n",
    "    new_row.append(list(df.iloc[index,200:200+19]))\n",
    "    new_row.append(list(df.iloc[index,220:220+19]))\n",
    "    new_row.append(list(df.iloc[index,242:242+19]))\n",
    "    new_row.append(list(df.iloc[index,263:263+19]))\n",
    "    new_row.append(list(df.iloc[index,283:283+19]))\n",
    "    feature.append(new_row)\n",
    "    feature_df = pd.DataFrame({'new_features':feature})\n",
    "new_df = pd.concat([df.iloc[:,:5],feature_df],axis=1)\n",
    "new_df.head(2)"
   ]
  },
  {
   "cell_type": "code",
   "execution_count": 150,
   "metadata": {},
   "outputs": [
    {
     "data": {
      "text/html": [
       "<div>\n",
       "<style scoped>\n",
       "    .dataframe tbody tr th:only-of-type {\n",
       "        vertical-align: middle;\n",
       "    }\n",
       "\n",
       "    .dataframe tbody tr th {\n",
       "        vertical-align: top;\n",
       "    }\n",
       "\n",
       "    .dataframe thead th {\n",
       "        text-align: right;\n",
       "    }\n",
       "</style>\n",
       "<table border=\"1\" class=\"dataframe\">\n",
       "  <thead>\n",
       "    <tr style=\"text-align: right;\">\n",
       "      <th></th>\n",
       "      <th>0</th>\n",
       "      <th>1</th>\n",
       "      <th>2</th>\n",
       "      <th>3</th>\n",
       "      <th>4</th>\n",
       "      <th>5</th>\n",
       "      <th>6</th>\n",
       "      <th>7</th>\n",
       "      <th>8</th>\n",
       "      <th>9</th>\n",
       "      <th>...</th>\n",
       "      <th>19</th>\n",
       "      <th>20</th>\n",
       "      <th>21</th>\n",
       "      <th>22</th>\n",
       "      <th>23</th>\n",
       "      <th>24</th>\n",
       "      <th>25</th>\n",
       "      <th>26</th>\n",
       "      <th>27</th>\n",
       "      <th>28</th>\n",
       "    </tr>\n",
       "  </thead>\n",
       "  <tbody>\n",
       "    <tr>\n",
       "      <th>0</th>\n",
       "      <td>A11887</td>\n",
       "      <td>G21_1230</td>\n",
       "      <td>20200219</td>\n",
       "      <td>PTC13</td>\n",
       "      <td>Deg.F</td>\n",
       "      <td>0.256024</td>\n",
       "      <td>0.019345</td>\n",
       "      <td>0.019355</td>\n",
       "      <td>0.252079</td>\n",
       "      <td>0.021083</td>\n",
       "      <td>...</td>\n",
       "      <td>0.360439</td>\n",
       "      <td>0.371785</td>\n",
       "      <td>0.386717</td>\n",
       "      <td>0.395613</td>\n",
       "      <td>0.400984</td>\n",
       "      <td>0.414523</td>\n",
       "      <td>0.430577</td>\n",
       "      <td>0.445247</td>\n",
       "      <td>0.462738</td>\n",
       "      <td>0.478460</td>\n",
       "    </tr>\n",
       "    <tr>\n",
       "      <th>1</th>\n",
       "      <td>A11887</td>\n",
       "      <td>G21_1230</td>\n",
       "      <td>20200219</td>\n",
       "      <td>PTC14</td>\n",
       "      <td>Deg.F</td>\n",
       "      <td>0.256024</td>\n",
       "      <td>0.019345</td>\n",
       "      <td>0.019355</td>\n",
       "      <td>0.252079</td>\n",
       "      <td>0.014904</td>\n",
       "      <td>...</td>\n",
       "      <td>0.321861</td>\n",
       "      <td>0.332073</td>\n",
       "      <td>0.344213</td>\n",
       "      <td>0.351362</td>\n",
       "      <td>0.355547</td>\n",
       "      <td>0.366868</td>\n",
       "      <td>0.380121</td>\n",
       "      <td>0.394677</td>\n",
       "      <td>0.406844</td>\n",
       "      <td>0.422417</td>\n",
       "    </tr>\n",
       "  </tbody>\n",
       "</table>\n",
       "<p>2 rows × 29 columns</p>\n",
       "</div>"
      ],
      "text/plain": [
       "        0         1         2      3      4         5         6         7  \\\n",
       "0  A11887  G21_1230  20200219  PTC13  Deg.F  0.256024  0.019345  0.019355   \n",
       "1  A11887  G21_1230  20200219  PTC14  Deg.F  0.256024  0.019345  0.019355   \n",
       "\n",
       "          8         9  ...        19        20        21        22        23  \\\n",
       "0  0.252079  0.021083  ...  0.360439  0.371785  0.386717  0.395613  0.400984   \n",
       "1  0.252079  0.014904  ...  0.321861  0.332073  0.344213  0.351362  0.355547   \n",
       "\n",
       "         24        25        26        27        28  \n",
       "0  0.414523  0.430577  0.445247  0.462738  0.478460  \n",
       "1  0.366868  0.380121  0.394677  0.406844  0.422417  \n",
       "\n",
       "[2 rows x 29 columns]"
      ]
     },
     "execution_count": 150,
     "metadata": {},
     "output_type": "execute_result"
    }
   ],
   "source": [
    "# df_copy = df.iloc[:,5:].copy()\n",
    "# norm_df.iloc[:,:] = min_max_scaler.fit_transform(df_copy)\n",
    "# norm_df = pd.concat([df.iloc[:,:5],norm_df],axis=1)\n",
    "# norm_df.head(2)"
   ]
  },
  {
   "cell_type": "code",
   "execution_count": 393,
   "metadata": {},
   "outputs": [],
   "source": [
    "# for col in df.columns.values:\n",
    "#     df = df[df[col] != -1]"
   ]
  },
  {
   "cell_type": "code",
   "execution_count": 31,
   "metadata": {},
   "outputs": [],
   "source": [
    "# workpiece = df['0'].unique()\n",
    "# group = df['1'].unique()\n",
    "# print(len(workpiece),workpiece, '\\n', len(group), group)"
   ]
  },
  {
   "cell_type": "code",
   "execution_count": 32,
   "metadata": {},
   "outputs": [
    {
     "name": "stdout",
     "output_type": "stream",
     "text": [
      "[108 147  57  15  12  39  21  12  12 108   8  20 183  39 131  21  26  21\n",
      " 149  32  69  17  19 163  20   9  22  22  96 144 147  72] \n",
      " [426 129 230 471 175 379 151]\n"
     ]
    }
   ],
   "source": [
    "count_w = df.groupby('0').count().iloc[:,0].values\n",
    "count_g = df.groupby('1').count().iloc[:,0].values\n",
    "print(count_w,'\\n',count_g)"
   ]
  },
  {
   "cell_type": "code",
   "execution_count": 293,
   "metadata": {},
   "outputs": [
    {
     "name": "stdout",
     "output_type": "stream",
     "text": [
      "1764 197\n"
     ]
    }
   ],
   "source": [
    "train_df, val_df = train_test_split(new_df, test_size=0.1)\n",
    "print(len(train_df),len(val_df))"
   ]
  },
  {
   "cell_type": "code",
   "execution_count": 294,
   "metadata": {},
   "outputs": [
    {
     "name": "stdout",
     "output_type": "stream",
     "text": [
      "[ 16.33333333  12.          30.94736842 117.6        147.\n",
      "  45.23076923  84.         147.         147.          16.33333333\n",
      " 220.5         88.2          9.63934426  45.23076923  13.46564885\n",
      "  84.          67.84615385  84.          11.83892617  55.125\n",
      "  25.56521739 103.76470588  92.84210526  10.82208589  88.2\n",
      " 196.          80.18181818  80.18181818  18.375       12.25\n",
      "  12.          24.5       ] \n",
      " [ 4.14084507 13.6744186   7.66956522  3.74522293 10.08        4.65435356\n",
      " 11.68211921]\n"
     ]
    }
   ],
   "source": [
    "weight_w = len(train_df)/count_w\n",
    "weight_g = len(train_df)/count_g\n",
    "print(weight_w,'\\n',weight_g)"
   ]
  },
  {
   "cell_type": "code",
   "execution_count": 34,
   "metadata": {},
   "outputs": [],
   "source": [
    "# #sliding window:\n",
    "# sw_df = df.iloc[:,:5].copy()\n",
    "# for i in range(5,22,2):\n",
    "#     #print(i)\n",
    "#     col = list(df.iloc[:,i:i+6].values)\n",
    "#     #print(col,len(col))\n",
    "#     sw_df[str(i)] = col\n",
    "# sw_df.head(3)\n",
    "\n",
    "# train_df, val_df = train_test_split(sw_df, test_size=0.2)\n",
    "# print(len(train_df),len(val_df))"
   ]
  },
  {
   "cell_type": "code",
   "execution_count": 307,
   "metadata": {},
   "outputs": [
    {
     "data": {
      "text/plain": [
       "torch.Size([20, 16, 24])"
      ]
     },
     "execution_count": 307,
     "metadata": {},
     "output_type": "execute_result"
    }
   ],
   "source": [
    ">>> m = nn.MaxPool1d(3, stride=2)\n",
    ">>> input = torch.randn(20, 16, 50)\n",
    ">>> output = m(input)\n",
    "output.shape"
   ]
  },
  {
   "cell_type": "code",
   "execution_count": 217,
   "metadata": {},
   "outputs": [],
   "source": [
    "class Dataset(Dataset):\n",
    "    def __init__(self, mode, df):\n",
    "        assert mode in [\"train\", \"test\"]  \n",
    "        self.mode = mode\n",
    "        self.index = df.iloc[:,0]\n",
    "        self.data = df\n",
    "        self.len = len(self.data)\n",
    "\n",
    "    def __len__(self):\n",
    "        return self.len\n",
    "    \n",
    "    def __getitem__(self, idx):\n",
    "        x = self.data.iloc[idx,5:]\n",
    "        if self.mode == \"train\":\n",
    "            workpiece = list(df['1'].unique())\n",
    "            group = list(df['2'].unique())\n",
    "            w_name = self.data.iloc[idx][0]\n",
    "            g_name = self.data.iloc[idx][1]\n",
    "            \n",
    "            w_index = workpiece.index(w_name)\n",
    "            g_index = group.index(g_name)\n",
    "            input_x = torch.tensor(x)\n",
    "            \n",
    "            return input_x.float(), torch.tensor([w_index]).float(), torch.tensor([g_index]).float()\n",
    "        else:\n",
    "            return torch.tensor(x).float()"
   ]
  },
  {
   "cell_type": "code",
   "execution_count": 310,
   "metadata": {},
   "outputs": [],
   "source": [
    "class CNN_Model(nn.Module):\n",
    "    def __init__(self, in_channel, out_channel, input_size, output_dim_g, output_dim_w, batch_size):\n",
    "        super().__init__()\n",
    "        self.cnn1 = nn.Conv1d(in_channel, out_channel, kernel_size=3)\n",
    "        self.cnn2 = nn.Conv1d(out_channel, out_channel, kernel_size=9)\n",
    "        self.relu1 = nn.ReLU(inplace=True) \n",
    "        self.pool = nn.MaxPool1d(3, stride=2)\n",
    "        self.fc_g = nn.Linear(19*6, output_dim_g)\n",
    "        self.fc_w = nn.Linear(19*6, output_dim_w)\n",
    "        self.flatten = nn.Flatten()\n",
    "        self.bs = batch_size\n",
    "        \n",
    "    def forward(self, x):\n",
    "        out = self.cnn1(x)\n",
    "        out = self.pool(x)\n",
    "        out = self.relu1(out)\n",
    "        #print(out.shape)\n",
    "        #out = self.cnn2(out)\n",
    "        #out = self.relu1(out)\n",
    "        #print(out.shape)\n",
    "        out = self.flatten(out)\n",
    "        \n",
    "#         out_g = self.fc_g(out)\n",
    "#         out_w = self.fc_w(out)\n",
    "        out_w = self.fc_w(out) # 64 * input_dim(23 for raw or 258) * 1\n",
    "        out_g = []\n",
    "        for batch in range(out_w.shape[0]):\n",
    "            val1, _ = out_w[batch][:3].topk(1) \n",
    "            val2, _ = out_w[batch][3:6].topk(1)\n",
    "            val3, _ = out_w[batch][6:13].topk(1) #7\n",
    "            val4, _ = out_w[batch][13:20].topk(1) #7\n",
    "            val5, _ = out_w[batch][20:25].topk(1)\n",
    "            val6, _ = out_w[batch][25:29].topk(1)\n",
    "            val7, _ = out_w[batch][29:].topk(1)\n",
    "            out_g.append([val1,val2,val3,val4,val5,val6,val7])\n",
    "        out_g = torch.tensor(out_g).cuda()\n",
    "        return out_w.squeeze(1), out_g.squeeze(1)\n",
    "        "
   ]
  },
  {
   "cell_type": "code",
   "execution_count": 246,
   "metadata": {},
   "outputs": [
    {
     "data": {
      "text/plain": [
       "torch.Size([20, 33, 24, 49])"
      ]
     },
     "execution_count": 246,
     "metadata": {},
     "output_type": "execute_result"
    }
   ],
   "source": [
    "m = nn.Conv2d(16, 33, 3, stride=2)\n",
    "input = torch.randn(20, 16, 50, 100)\n",
    "output = m(input)\n",
    "output.shape"
   ]
  },
  {
   "cell_type": "code",
   "execution_count": 210,
   "metadata": {},
   "outputs": [],
   "source": [
    ">>> m = nn.Conv1d(12, 32, 5, stride=1)\n",
    ">>> input = torch.randn(2, 12, 19)\n",
    ">>> output = m(input)"
   ]
  },
  {
   "cell_type": "code",
   "execution_count": 208,
   "metadata": {},
   "outputs": [
    {
     "data": {
      "text/plain": [
       "torch.Size([2, 32, 15])"
      ]
     },
     "execution_count": 208,
     "metadata": {},
     "output_type": "execute_result"
    }
   ],
   "source": [
    "output.shape"
   ]
  },
  {
   "cell_type": "code",
   "execution_count": 68,
   "metadata": {},
   "outputs": [
    {
     "data": {
      "text/plain": [
       "torch.Size([20, 20, 9])"
      ]
     },
     "execution_count": 68,
     "metadata": {},
     "output_type": "execute_result"
    }
   ],
   "source": [
    ">>> m = nn.Conv1d(32, 20, 11, stride=1)\n",
    ">>> input = torch.randn(20, 32, 19)\n",
    ">>> output = m(input)\n",
    "output.shape"
   ]
  },
  {
   "cell_type": "code",
   "execution_count": 61,
   "metadata": {},
   "outputs": [
    {
     "data": {
      "text/plain": [
       "torch.Size([20, 608])"
      ]
     },
     "execution_count": 61,
     "metadata": {},
     "output_type": "execute_result"
    }
   ],
   "source": [
    "torch.flatten(output,start_dim=1).shape"
   ]
  },
  {
   "cell_type": "code",
   "execution_count": 27,
   "metadata": {},
   "outputs": [
    {
     "data": {
      "text/plain": [
       "torch.Size([20, 608])"
      ]
     },
     "execution_count": 27,
     "metadata": {},
     "output_type": "execute_result"
    }
   ],
   "source": [
    "output.view(20,-1).shape"
   ]
  },
  {
   "cell_type": "code",
   "execution_count": 189,
   "metadata": {},
   "outputs": [],
   "source": [
    "def calc_score(accuracy):\n",
    "    if accuracy >= .75:\n",
    "        return 100\n",
    "    elif accuracy >= .65:\n",
    "        return 90\n",
    "    elif accuracy >= .55:\n",
    "        return 80\n",
    "    elif accuracy >= .45:\n",
    "        return 70\n",
    "    elif accuracy >= .35:\n",
    "        return 60\n",
    "    else:\n",
    "        return 0"
   ]
  },
  {
   "cell_type": "code",
   "execution_count": 312,
   "metadata": {},
   "outputs": [],
   "source": [
    "def asMinutes(s): #s = time.time()-start_time\n",
    "    m = math.floor(s / 60)\n",
    "    s -= m * 60\n",
    "    return '%dm %ds' % (m, s)\n",
    "\n",
    "\n",
    "def evaluation(valloader,net):\n",
    "    net = net.eval()\n",
    "    total, tp_w, tp_g, d = 0, 0, 0, 0\n",
    "    with torch.no_grad():\n",
    "        for x, true_w, true_g in valloader:\n",
    "            #x = x.unsqueeze(1)\n",
    "            x = x.squeeze(1)\n",
    "            x = x.permute(0,2,1)\n",
    "            x = x.cuda()\n",
    "            true_w = true_w.cuda()\n",
    "            true_g = true_g.cuda()\n",
    "            pred_w, pred_g = net(x)\n",
    "            if torch.argmax(pred_g,dim=1) == true_g:\n",
    "                tp_g += 1\n",
    "            if torch.argmax(pred_w,dim=1) == true_w:\n",
    "                tp_w += 1\n",
    "            if torch.argmax(pred_w,dim=1) == true_w and torch.argmax(pred_g,dim=1) == true_g:\n",
    "                d += 1\n",
    "            total += 1\n",
    "    return (tp_w/total, tp_g/total, d/total)\n",
    "    \n",
    "def trainIter(model, trainloader, valloader, epochs, LR, weight_w, weight_g):\n",
    "    model = model.cuda()\n",
    "    optimizer = torch.optim.Adam(model.parameters(), lr=LR)\n",
    "    loss_func_w = torch.nn.CrossEntropyLoss(weight=torch.FloatTensor(weight_w).cuda())\n",
    "    loss_func_g = torch.nn.CrossEntropyLoss(weight=torch.FloatTensor(weight_g).cuda())\n",
    "    start_time = time.time()\n",
    "    best_score = 0\n",
    "    for epoch in range(epochs):\n",
    "        model = model.train()\n",
    "        steps, train_loss, total_wloss, total_gloss = 0, 0, 0, 0\n",
    "        for x, y_w, y_g in trainloader:\n",
    "            #x = x.unsqueeze(1)\n",
    "            x = x.squeeze(1)\n",
    "            x = x.permute(0,2,1)\n",
    "            x = x.cuda()\n",
    "            y_w = y_w.cuda()\n",
    "            y_g = y_g.cuda()\n",
    "            pred_w, pred_g = model(x)\n",
    "            loss_w = loss_func_w(pred_w, y_w.squeeze(1).long())\n",
    "            loss_g = loss_func_g(pred_g, y_g.squeeze(1).long())\n",
    "            final_loss = loss_g*0.5 + loss_w*0.5\n",
    "            final_loss.backward()\n",
    "            optimizer.step()\n",
    "            optimizer.zero_grad()\n",
    "            train_loss += final_loss.item()\n",
    "            total_wloss += loss_w.item()\n",
    "            total_gloss += loss_g.item()\n",
    "            steps += 1\n",
    "            print(f'Epoch : {epoch+1}/{epochs}, time: {asMinutes(time.time()-start_time)}, Training Loss : {train_loss/steps},Group Loss : {total_gloss/steps},WorkPiece Loss : {total_wloss/steps}', end = '\\r')\n",
    "        tp_w, tp_g, d = evaluation(valloader, model)\n",
    "        score = calc_score(d)*0.3 + calc_score(tp_g)*0.7\n",
    "        if score >= best_score:\n",
    "            torch.save(model.state_dict(), f'IMBD_final_1013_cnn') \n",
    "            best_score = score\n",
    "    \n",
    "        print(f'Epoch : {epoch+1}/{epochs}, Accuracy : {score}/{tp_g}/{tp_w}/{d}',  end = '\\r') \n",
    "        if epoch % 50 == 0:\n",
    "            print('\\n===============================================================================================')"
   ]
  },
  {
   "cell_type": "code",
   "execution_count": 193,
   "metadata": {},
   "outputs": [
    {
     "name": "stdout",
     "output_type": "stream",
     "text": [
      "torch.Size([262, 258]) torch.Size([262, 1])\n"
     ]
    }
   ],
   "source": [
    "train = Dataset('train', train_df)\n",
    "trainloader = torch.utils.data.DataLoader(train, batch_size= 262, drop_last = True,shuffle=True)\n",
    "for x,y_w, y_g in trainloader:\n",
    "    print(x.shape, y_w.shape)\n",
    "#     print(x)\n",
    "    break"
   ]
  },
  {
   "cell_type": "code",
   "execution_count": 314,
   "metadata": {},
   "outputs": [
    {
     "name": "stdout",
     "output_type": "stream",
     "text": [
      "Epoch : 1/700, Accuracy : 0.0/0.2233502538071066/0.08629441624365482/0.0862944162436548207794,WorkPiece Loss : 46.4452060872858256\n",
      "===============================================================================================\n",
      "Epoch : 51/700, Accuracy : 49.0/0.5076142131979695/0.2436548223350254/0.243654822335025411704878,WorkPiece Loss : 1.9309954209761186\n",
      "===============================================================================================\n",
      "Epoch : 101/700, Accuracy : 56.0/0.6345177664974619/0.2639593908629442/0.263959390862944275844782,WorkPiece Loss : 1.7838089617815884\n",
      "===============================================================================================\n",
      "Epoch : 151/700, Accuracy : 56.0/0.6395939086294417/0.28426395939086296/0.2842639593908629668908,WorkPiece Loss : 1.67456556883725254\n",
      "===============================================================================================\n",
      "Epoch : 201/700, Accuracy : 56.0/0.6345177664974619/0.25380710659898476/0.2538071065989847619275,WorkPiece Loss : 1.70113610679453085\n",
      "===============================================================================================\n",
      "Epoch : 251/700, Accuracy : 56.0/0.6040609137055838/0.29441624365482233/0.2944162436548223349401,WorkPiece Loss : 1.66817940365184454\n",
      "===============================================================================================\n",
      "Epoch : 294/700, time: 9m 45s, Training Loss : 1.3083291747353294,Group Loss : 0.9461084620519118,WorkPiece Loss : 1.6705498901280489\r"
     ]
    },
    {
     "ename": "KeyboardInterrupt",
     "evalue": "",
     "output_type": "error",
     "traceback": [
      "\u001b[0;31m---------------------------------------------------------------------------\u001b[0m",
      "\u001b[0;31mKeyboardInterrupt\u001b[0m                         Traceback (most recent call last)",
      "\u001b[0;32m<ipython-input-314-8b807175f4bf>\u001b[0m in \u001b[0;36m<module>\u001b[0;34m\u001b[0m\n\u001b[1;32m     12\u001b[0m \u001b[0mval\u001b[0m \u001b[0;34m=\u001b[0m \u001b[0mDataset\u001b[0m\u001b[0;34m(\u001b[0m\u001b[0;34m'train'\u001b[0m\u001b[0;34m,\u001b[0m \u001b[0mval_df\u001b[0m\u001b[0;34m)\u001b[0m\u001b[0;34m\u001b[0m\u001b[0;34m\u001b[0m\u001b[0m\n\u001b[1;32m     13\u001b[0m \u001b[0mvalloader\u001b[0m \u001b[0;34m=\u001b[0m \u001b[0mtorch\u001b[0m\u001b[0;34m.\u001b[0m\u001b[0mutils\u001b[0m\u001b[0;34m.\u001b[0m\u001b[0mdata\u001b[0m\u001b[0;34m.\u001b[0m\u001b[0mDataLoader\u001b[0m\u001b[0;34m(\u001b[0m\u001b[0mval\u001b[0m\u001b[0;34m,\u001b[0m \u001b[0mbatch_size\u001b[0m\u001b[0;34m=\u001b[0m\u001b[0;36m1\u001b[0m\u001b[0;34m,\u001b[0m \u001b[0mshuffle\u001b[0m\u001b[0;34m=\u001b[0m\u001b[0;32mFalse\u001b[0m\u001b[0;34m)\u001b[0m\u001b[0;34m\u001b[0m\u001b[0;34m\u001b[0m\u001b[0m\n\u001b[0;32m---> 14\u001b[0;31m \u001b[0mtrainIter\u001b[0m\u001b[0;34m(\u001b[0m\u001b[0mmodel\u001b[0m\u001b[0;34m,\u001b[0m \u001b[0mtrainloader\u001b[0m\u001b[0;34m,\u001b[0m \u001b[0mvalloader\u001b[0m\u001b[0;34m,\u001b[0m \u001b[0mepochs\u001b[0m\u001b[0;34m=\u001b[0m\u001b[0;36m700\u001b[0m\u001b[0;34m,\u001b[0m \u001b[0mLR\u001b[0m\u001b[0;34m=\u001b[0m\u001b[0;36m2e-4\u001b[0m\u001b[0;34m,\u001b[0m \u001b[0mweight_w\u001b[0m\u001b[0;34m=\u001b[0m\u001b[0mweight_w\u001b[0m\u001b[0;34m,\u001b[0m \u001b[0mweight_g\u001b[0m\u001b[0;34m=\u001b[0m\u001b[0mweight_g\u001b[0m\u001b[0;34m)\u001b[0m\u001b[0;34m\u001b[0m\u001b[0;34m\u001b[0m\u001b[0m\n\u001b[0m",
      "\u001b[0;32m<ipython-input-312-adda82561508>\u001b[0m in \u001b[0;36mtrainIter\u001b[0;34m(model, trainloader, valloader, epochs, LR, weight_w, weight_g)\u001b[0m\n\u001b[1;32m     55\u001b[0m             \u001b[0msteps\u001b[0m \u001b[0;34m+=\u001b[0m \u001b[0;36m1\u001b[0m\u001b[0;34m\u001b[0m\u001b[0;34m\u001b[0m\u001b[0m\n\u001b[1;32m     56\u001b[0m             \u001b[0mprint\u001b[0m\u001b[0;34m(\u001b[0m\u001b[0;34mf'Epoch : {epoch+1}/{epochs}, time: {asMinutes(time.time()-start_time)}, Training Loss : {train_loss/steps},Group Loss : {total_gloss/steps},WorkPiece Loss : {total_wloss/steps}'\u001b[0m\u001b[0;34m,\u001b[0m \u001b[0mend\u001b[0m \u001b[0;34m=\u001b[0m \u001b[0;34m'\\r'\u001b[0m\u001b[0;34m)\u001b[0m\u001b[0;34m\u001b[0m\u001b[0;34m\u001b[0m\u001b[0m\n\u001b[0;32m---> 57\u001b[0;31m         \u001b[0mtp_w\u001b[0m\u001b[0;34m,\u001b[0m \u001b[0mtp_g\u001b[0m\u001b[0;34m,\u001b[0m \u001b[0md\u001b[0m \u001b[0;34m=\u001b[0m \u001b[0mevaluation\u001b[0m\u001b[0;34m(\u001b[0m\u001b[0mvalloader\u001b[0m\u001b[0;34m,\u001b[0m \u001b[0mmodel\u001b[0m\u001b[0;34m)\u001b[0m\u001b[0;34m\u001b[0m\u001b[0;34m\u001b[0m\u001b[0m\n\u001b[0m\u001b[1;32m     58\u001b[0m         \u001b[0mscore\u001b[0m \u001b[0;34m=\u001b[0m \u001b[0mcalc_score\u001b[0m\u001b[0;34m(\u001b[0m\u001b[0md\u001b[0m\u001b[0;34m)\u001b[0m\u001b[0;34m*\u001b[0m\u001b[0;36m0.3\u001b[0m \u001b[0;34m+\u001b[0m \u001b[0mcalc_score\u001b[0m\u001b[0;34m(\u001b[0m\u001b[0mtp_g\u001b[0m\u001b[0;34m)\u001b[0m\u001b[0;34m*\u001b[0m\u001b[0;36m0.7\u001b[0m\u001b[0;34m\u001b[0m\u001b[0;34m\u001b[0m\u001b[0m\n\u001b[1;32m     59\u001b[0m         \u001b[0;32mif\u001b[0m \u001b[0mscore\u001b[0m \u001b[0;34m>=\u001b[0m \u001b[0mbest_score\u001b[0m\u001b[0;34m:\u001b[0m\u001b[0;34m\u001b[0m\u001b[0;34m\u001b[0m\u001b[0m\n",
      "\u001b[0;32m<ipython-input-312-adda82561508>\u001b[0m in \u001b[0;36mevaluation\u001b[0;34m(valloader, net)\u001b[0m\n\u001b[1;32m     16\u001b[0m             \u001b[0mtrue_w\u001b[0m \u001b[0;34m=\u001b[0m \u001b[0mtrue_w\u001b[0m\u001b[0;34m.\u001b[0m\u001b[0mcuda\u001b[0m\u001b[0;34m(\u001b[0m\u001b[0;34m)\u001b[0m\u001b[0;34m\u001b[0m\u001b[0;34m\u001b[0m\u001b[0m\n\u001b[1;32m     17\u001b[0m             \u001b[0mtrue_g\u001b[0m \u001b[0;34m=\u001b[0m \u001b[0mtrue_g\u001b[0m\u001b[0;34m.\u001b[0m\u001b[0mcuda\u001b[0m\u001b[0;34m(\u001b[0m\u001b[0;34m)\u001b[0m\u001b[0;34m\u001b[0m\u001b[0;34m\u001b[0m\u001b[0m\n\u001b[0;32m---> 18\u001b[0;31m             \u001b[0mpred_w\u001b[0m\u001b[0;34m,\u001b[0m \u001b[0mpred_g\u001b[0m \u001b[0;34m=\u001b[0m \u001b[0mnet\u001b[0m\u001b[0;34m(\u001b[0m\u001b[0mx\u001b[0m\u001b[0;34m)\u001b[0m\u001b[0;34m\u001b[0m\u001b[0;34m\u001b[0m\u001b[0m\n\u001b[0m\u001b[1;32m     19\u001b[0m             \u001b[0;32mif\u001b[0m \u001b[0mtorch\u001b[0m\u001b[0;34m.\u001b[0m\u001b[0margmax\u001b[0m\u001b[0;34m(\u001b[0m\u001b[0mpred_g\u001b[0m\u001b[0;34m,\u001b[0m\u001b[0mdim\u001b[0m\u001b[0;34m=\u001b[0m\u001b[0;36m1\u001b[0m\u001b[0;34m)\u001b[0m \u001b[0;34m==\u001b[0m \u001b[0mtrue_g\u001b[0m\u001b[0;34m:\u001b[0m\u001b[0;34m\u001b[0m\u001b[0;34m\u001b[0m\u001b[0m\n\u001b[1;32m     20\u001b[0m                 \u001b[0mtp_g\u001b[0m \u001b[0;34m+=\u001b[0m \u001b[0;36m1\u001b[0m\u001b[0;34m\u001b[0m\u001b[0;34m\u001b[0m\u001b[0m\n",
      "\u001b[0;32m~/miniconda3/envs/jess/lib/python3.7/site-packages/torch/nn/modules/module.py\u001b[0m in \u001b[0;36m__call__\u001b[0;34m(self, *input, **kwargs)\u001b[0m\n\u001b[1;32m    530\u001b[0m             \u001b[0mresult\u001b[0m \u001b[0;34m=\u001b[0m \u001b[0mself\u001b[0m\u001b[0;34m.\u001b[0m\u001b[0m_slow_forward\u001b[0m\u001b[0;34m(\u001b[0m\u001b[0;34m*\u001b[0m\u001b[0minput\u001b[0m\u001b[0;34m,\u001b[0m \u001b[0;34m**\u001b[0m\u001b[0mkwargs\u001b[0m\u001b[0;34m)\u001b[0m\u001b[0;34m\u001b[0m\u001b[0;34m\u001b[0m\u001b[0m\n\u001b[1;32m    531\u001b[0m         \u001b[0;32melse\u001b[0m\u001b[0;34m:\u001b[0m\u001b[0;34m\u001b[0m\u001b[0;34m\u001b[0m\u001b[0m\n\u001b[0;32m--> 532\u001b[0;31m             \u001b[0mresult\u001b[0m \u001b[0;34m=\u001b[0m \u001b[0mself\u001b[0m\u001b[0;34m.\u001b[0m\u001b[0mforward\u001b[0m\u001b[0;34m(\u001b[0m\u001b[0;34m*\u001b[0m\u001b[0minput\u001b[0m\u001b[0;34m,\u001b[0m \u001b[0;34m**\u001b[0m\u001b[0mkwargs\u001b[0m\u001b[0;34m)\u001b[0m\u001b[0;34m\u001b[0m\u001b[0;34m\u001b[0m\u001b[0m\n\u001b[0m\u001b[1;32m    533\u001b[0m         \u001b[0;32mfor\u001b[0m \u001b[0mhook\u001b[0m \u001b[0;32min\u001b[0m \u001b[0mself\u001b[0m\u001b[0;34m.\u001b[0m\u001b[0m_forward_hooks\u001b[0m\u001b[0;34m.\u001b[0m\u001b[0mvalues\u001b[0m\u001b[0;34m(\u001b[0m\u001b[0;34m)\u001b[0m\u001b[0;34m:\u001b[0m\u001b[0;34m\u001b[0m\u001b[0;34m\u001b[0m\u001b[0m\n\u001b[1;32m    534\u001b[0m             \u001b[0mhook_result\u001b[0m \u001b[0;34m=\u001b[0m \u001b[0mhook\u001b[0m\u001b[0;34m(\u001b[0m\u001b[0mself\u001b[0m\u001b[0;34m,\u001b[0m \u001b[0minput\u001b[0m\u001b[0;34m,\u001b[0m \u001b[0mresult\u001b[0m\u001b[0;34m)\u001b[0m\u001b[0;34m\u001b[0m\u001b[0;34m\u001b[0m\u001b[0m\n",
      "\u001b[0;32m<ipython-input-310-50f21bdaf747>\u001b[0m in \u001b[0;36mforward\u001b[0;34m(self, x)\u001b[0m\n\u001b[1;32m     34\u001b[0m             \u001b[0mval7\u001b[0m\u001b[0;34m,\u001b[0m \u001b[0m_\u001b[0m \u001b[0;34m=\u001b[0m \u001b[0mout_w\u001b[0m\u001b[0;34m[\u001b[0m\u001b[0mbatch\u001b[0m\u001b[0;34m]\u001b[0m\u001b[0;34m[\u001b[0m\u001b[0;36m29\u001b[0m\u001b[0;34m:\u001b[0m\u001b[0;34m]\u001b[0m\u001b[0;34m.\u001b[0m\u001b[0mtopk\u001b[0m\u001b[0;34m(\u001b[0m\u001b[0;36m1\u001b[0m\u001b[0;34m)\u001b[0m\u001b[0;34m\u001b[0m\u001b[0;34m\u001b[0m\u001b[0m\n\u001b[1;32m     35\u001b[0m             \u001b[0mout_g\u001b[0m\u001b[0;34m.\u001b[0m\u001b[0mappend\u001b[0m\u001b[0;34m(\u001b[0m\u001b[0;34m[\u001b[0m\u001b[0mval1\u001b[0m\u001b[0;34m,\u001b[0m\u001b[0mval2\u001b[0m\u001b[0;34m,\u001b[0m\u001b[0mval3\u001b[0m\u001b[0;34m,\u001b[0m\u001b[0mval4\u001b[0m\u001b[0;34m,\u001b[0m\u001b[0mval5\u001b[0m\u001b[0;34m,\u001b[0m\u001b[0mval6\u001b[0m\u001b[0;34m,\u001b[0m\u001b[0mval7\u001b[0m\u001b[0;34m]\u001b[0m\u001b[0;34m)\u001b[0m\u001b[0;34m\u001b[0m\u001b[0;34m\u001b[0m\u001b[0m\n\u001b[0;32m---> 36\u001b[0;31m         \u001b[0mout_g\u001b[0m \u001b[0;34m=\u001b[0m \u001b[0mtorch\u001b[0m\u001b[0;34m.\u001b[0m\u001b[0mtensor\u001b[0m\u001b[0;34m(\u001b[0m\u001b[0mout_g\u001b[0m\u001b[0;34m)\u001b[0m\u001b[0;34m.\u001b[0m\u001b[0mcuda\u001b[0m\u001b[0;34m(\u001b[0m\u001b[0;34m)\u001b[0m\u001b[0;34m\u001b[0m\u001b[0;34m\u001b[0m\u001b[0m\n\u001b[0m\u001b[1;32m     37\u001b[0m         \u001b[0;32mreturn\u001b[0m \u001b[0mout_w\u001b[0m\u001b[0;34m.\u001b[0m\u001b[0msqueeze\u001b[0m\u001b[0;34m(\u001b[0m\u001b[0;36m1\u001b[0m\u001b[0;34m)\u001b[0m\u001b[0;34m,\u001b[0m \u001b[0mout_g\u001b[0m\u001b[0;34m.\u001b[0m\u001b[0msqueeze\u001b[0m\u001b[0;34m(\u001b[0m\u001b[0;36m1\u001b[0m\u001b[0;34m)\u001b[0m\u001b[0;34m\u001b[0m\u001b[0;34m\u001b[0m\u001b[0m\n\u001b[1;32m     38\u001b[0m \u001b[0;34m\u001b[0m\u001b[0m\n",
      "\u001b[0;31mKeyboardInterrupt\u001b[0m: "
     ]
    }
   ],
   "source": [
    "input_size = 19\n",
    "HIDDEN = 256\n",
    "N = 1\n",
    "BS = 32\n",
    "out_g = 7\n",
    "out_w = 32 \n",
    "dropout = 0.3\n",
    "#model = classifier(output_dim_g=output_dim_g, output_dim_w=output_dim_w, input_size=input_size, hidden_dim=HIDDEN, n_layers=N, batch_size=BS, drop_prob=dropout)\n",
    "model = CNN_Model(in_channel=19, out_channel=10, input_size=input_size, output_dim_g= out_g, output_dim_w=out_w, batch_size=BS)\n",
    "train = Dataset('train', train_df)\n",
    "trainloader = torch.utils.data.DataLoader(train, batch_size= BS, drop_last = True,shuffle=True)\n",
    "val = Dataset('train', val_df)\n",
    "valloader = torch.utils.data.DataLoader(val, batch_size=1, shuffle=False)\n",
    "trainIter(model, trainloader, valloader, epochs=700, LR=2e-4, weight_w=weight_w, weight_g=weight_g)"
   ]
  },
  {
   "cell_type": "code",
   "execution_count": 317,
   "metadata": {},
   "outputs": [
    {
     "name": "stdout",
     "output_type": "stream",
     "text": [
      "88.0 0.4071246819338422 0.7608142493638677 0.3638676844783715\n"
     ]
    }
   ],
   "source": [
    "tp_w, tp_g, d = evaluation(valloader, model)\n",
    "score = calc_score(d)*0.3 + calc_score(tp_g)*0.7\n",
    "print(score,tp_w,tp_g,d)"
   ]
  },
  {
   "cell_type": "code",
   "execution_count": null,
   "metadata": {},
   "outputs": [],
   "source": [
    "print(1)"
   ]
  },
  {
   "cell_type": "code",
   "execution_count": null,
   "metadata": {},
   "outputs": [],
   "source": [
    " "
   ]
  }
 ],
 "metadata": {
  "kernelspec": {
   "display_name": "jess",
   "language": "python",
   "name": "jess"
  },
  "language_info": {
   "codemirror_mode": {
    "name": "ipython",
    "version": 3
   },
   "file_extension": ".py",
   "mimetype": "text/x-python",
   "name": "python",
   "nbconvert_exporter": "python",
   "pygments_lexer": "ipython3",
   "version": "3.7.7"
  }
 },
 "nbformat": 4,
 "nbformat_minor": 4
}
